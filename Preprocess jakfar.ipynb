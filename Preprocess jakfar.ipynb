{
 "cells": [
  {
   "cell_type": "markdown",
   "id": "cc96771c",
   "metadata": {},
   "source": [
    "## Preprocessing the data"
   ]
  },
  {
   "cell_type": "markdown",
   "id": "1e2e2933",
   "metadata": {},
   "source": [
    "Create a TimeSeries object from a Pandas DataFrame, and split it in train/validation series:"
   ]
  },
  {
   "cell_type": "code",
   "execution_count": 116,
   "id": "af0b0bab",
   "metadata": {},
   "outputs": [
    {
     "name": "stdout",
     "output_type": "stream",
     "text": [
      "<TimeSeries (DataArray) (datetime: 8760, component: 1, sample: 1)> Size: 70kB\n",
      "array([[[ 8943.]],\n",
      "\n",
      "       [[ 8929.]],\n",
      "\n",
      "       [[ 8887.]],\n",
      "\n",
      "       ...,\n",
      "\n",
      "       [[11035.]],\n",
      "\n",
      "       [[10831.]],\n",
      "\n",
      "       [[10722.]]])\n",
      "Coordinates:\n",
      "  * datetime   (datetime) datetime64[ns] 70kB 2023-01-01 ... 2023-12-31T23:00:00\n",
      "  * component  (component) <U4 16B 'Load'\n",
      "Dimensions without coordinates: sample\n",
      "Attributes:\n",
      "    static_covariates:  None\n",
      "    hierarchy:          None\n",
      "    metadata:           None\n"
     ]
    },
    {
     "data": {
      "text/html": [
       "<div>\n",
       "<style scoped>\n",
       "    .dataframe tbody tr th:only-of-type {\n",
       "        vertical-align: middle;\n",
       "    }\n",
       "\n",
       "    .dataframe tbody tr th {\n",
       "        vertical-align: top;\n",
       "    }\n",
       "\n",
       "    .dataframe thead th {\n",
       "        text-align: right;\n",
       "    }\n",
       "</style>\n",
       "<table border=\"1\" class=\"dataframe\">\n",
       "  <thead>\n",
       "    <tr style=\"text-align: right;\">\n",
       "      <th></th>\n",
       "      <th>datetime</th>\n",
       "      <th>Load</th>\n",
       "      <th>Temprature</th>\n",
       "      <th>Day_of_week</th>\n",
       "      <th>Hour_of_day</th>\n",
       "      <th>Holidays</th>\n",
       "    </tr>\n",
       "  </thead>\n",
       "  <tbody>\n",
       "    <tr>\n",
       "      <th>0</th>\n",
       "      <td>2023-01-01 00:00:00</td>\n",
       "      <td>8943</td>\n",
       "      <td>3.6</td>\n",
       "      <td>6</td>\n",
       "      <td>0</td>\n",
       "      <td>1</td>\n",
       "    </tr>\n",
       "    <tr>\n",
       "      <th>1</th>\n",
       "      <td>2023-01-01 01:00:00</td>\n",
       "      <td>8929</td>\n",
       "      <td>3.0</td>\n",
       "      <td>6</td>\n",
       "      <td>1</td>\n",
       "      <td>1</td>\n",
       "    </tr>\n",
       "    <tr>\n",
       "      <th>2</th>\n",
       "      <td>2023-01-01 02:00:00</td>\n",
       "      <td>8887</td>\n",
       "      <td>2.6</td>\n",
       "      <td>6</td>\n",
       "      <td>2</td>\n",
       "      <td>1</td>\n",
       "    </tr>\n",
       "    <tr>\n",
       "      <th>3</th>\n",
       "      <td>2023-01-01 03:00:00</td>\n",
       "      <td>8859</td>\n",
       "      <td>2.4</td>\n",
       "      <td>6</td>\n",
       "      <td>3</td>\n",
       "      <td>1</td>\n",
       "    </tr>\n",
       "    <tr>\n",
       "      <th>4</th>\n",
       "      <td>2023-01-01 04:00:00</td>\n",
       "      <td>8880</td>\n",
       "      <td>2.0</td>\n",
       "      <td>6</td>\n",
       "      <td>4</td>\n",
       "      <td>1</td>\n",
       "    </tr>\n",
       "    <tr>\n",
       "      <th>...</th>\n",
       "      <td>...</td>\n",
       "      <td>...</td>\n",
       "      <td>...</td>\n",
       "      <td>...</td>\n",
       "      <td>...</td>\n",
       "      <td>...</td>\n",
       "    </tr>\n",
       "    <tr>\n",
       "      <th>8755</th>\n",
       "      <td>2023-12-31 19:00:00</td>\n",
       "      <td>11561</td>\n",
       "      <td>-1.9</td>\n",
       "      <td>6</td>\n",
       "      <td>19</td>\n",
       "      <td>1</td>\n",
       "    </tr>\n",
       "    <tr>\n",
       "      <th>8756</th>\n",
       "      <td>2023-12-31 20:00:00</td>\n",
       "      <td>11276</td>\n",
       "      <td>-1.7</td>\n",
       "      <td>6</td>\n",
       "      <td>20</td>\n",
       "      <td>1</td>\n",
       "    </tr>\n",
       "    <tr>\n",
       "      <th>8757</th>\n",
       "      <td>2023-12-31 21:00:00</td>\n",
       "      <td>11035</td>\n",
       "      <td>-1.5</td>\n",
       "      <td>6</td>\n",
       "      <td>21</td>\n",
       "      <td>1</td>\n",
       "    </tr>\n",
       "    <tr>\n",
       "      <th>8758</th>\n",
       "      <td>2023-12-31 22:00:00</td>\n",
       "      <td>10831</td>\n",
       "      <td>-1.9</td>\n",
       "      <td>6</td>\n",
       "      <td>22</td>\n",
       "      <td>1</td>\n",
       "    </tr>\n",
       "    <tr>\n",
       "      <th>8759</th>\n",
       "      <td>2023-12-31 23:00:00</td>\n",
       "      <td>10722</td>\n",
       "      <td>-1.9</td>\n",
       "      <td>6</td>\n",
       "      <td>23</td>\n",
       "      <td>1</td>\n",
       "    </tr>\n",
       "  </tbody>\n",
       "</table>\n",
       "<p>8760 rows × 6 columns</p>\n",
       "</div>"
      ],
      "text/plain": [
       "                datetime   Load  Temprature  Day_of_week  Hour_of_day  \\\n",
       "0    2023-01-01 00:00:00   8943         3.6            6            0   \n",
       "1    2023-01-01 01:00:00   8929         3.0            6            1   \n",
       "2    2023-01-01 02:00:00   8887         2.6            6            2   \n",
       "3    2023-01-01 03:00:00   8859         2.4            6            3   \n",
       "4    2023-01-01 04:00:00   8880         2.0            6            4   \n",
       "...                  ...    ...         ...          ...          ...   \n",
       "8755 2023-12-31 19:00:00  11561        -1.9            6           19   \n",
       "8756 2023-12-31 20:00:00  11276        -1.7            6           20   \n",
       "8757 2023-12-31 21:00:00  11035        -1.5            6           21   \n",
       "8758 2023-12-31 22:00:00  10831        -1.9            6           22   \n",
       "8759 2023-12-31 23:00:00  10722        -1.9            6           23   \n",
       "\n",
       "      Holidays  \n",
       "0            1  \n",
       "1            1  \n",
       "2            1  \n",
       "3            1  \n",
       "4            1  \n",
       "...        ...  \n",
       "8755         1  \n",
       "8756         1  \n",
       "8757         1  \n",
       "8758         1  \n",
       "8759         1  \n",
       "\n",
       "[8760 rows x 6 columns]"
      ]
     },
     "execution_count": 116,
     "metadata": {},
     "output_type": "execute_result"
    }
   ],
   "source": [
    "import pandas as pd\n",
    "import holidays\n",
    "from darts import TimeSeries\n",
    "\n",
    "# Read a pandas DataFrame 2023\n",
    "load2023 = pd.read_csv(\"Load_Data/Total Load - Day Ahead _ Actual_2023.csv\", delimiter=\",\")\n",
    "weather_data= pd.read_csv(\"Temperature Data/smhi-opendata_1_98230_202301_202412.csv\", delimiter=\";\",skiprows=9)\n",
    "\n",
    "# Change the timestamp following the dataseries for DARTS\n",
    "load2023['Time (UTC)'] = load2023['Time (UTC)'].str.split(' - ').str[0]\n",
    "# Delete the initial day ahead forecast data\n",
    "load2023 = load2023.drop('Day-ahead Total Load Forecast [MW] - BZN|SE3',axis=1)   \n",
    "# Change the name to simple name\n",
    "load2023 = load2023.rename(columns={'Time (UTC)': 'completetime', 'Actual Total Load [MW] - BZN|SE3': 'Load'})\n",
    "# Convert 'time' to datetime for easier splitting\n",
    "load2023['datetime'] = pd.to_datetime(load2023['completetime'], format='%d.%m.%Y %H:%M')\n",
    "load2023 = load2023.drop(['completetime'], axis=1)\n",
    "# Adding the column temprature\n",
    "load2023['Temprature']=weather_data['Lufttemperatur']\n",
    "# Adding day type\n",
    "load2023['Day_of_week'] = load2023['datetime'].dt.dayofweek\n",
    "load2023['Hour_of_day'] = load2023['datetime'].dt.hour\n",
    "# Adding Holidays\n",
    "Sweden_holidays = holidays.CountryHoliday('SE')\n",
    "load2023['Holidays'] = [int(date in Sweden_holidays) for date in load2023.datetime]\n",
    "\n",
    "# Reorder the column\n",
    "load2023 = load2023[['datetime', 'Load','Temprature','Day_of_week', 'Hour_of_day', 'Holidays']]\n",
    "\n",
    "\n",
    "\n",
    "# Convert the panda data frame into DART dataseries\n",
    "Load = TimeSeries.from_dataframe(\n",
    "    df=load2023,\n",
    "    time_col=\"datetime\",\n",
    "    value_cols=[\"Load\"]\n",
    ")\n",
    "\n",
    "Temp = TimeSeries.from_dataframe(\n",
    "    df=load2023,\n",
    "    time_col=\"datetime\",\n",
    "    value_cols=[\"Temprature\"]\n",
    ")\n",
    "\n",
    "Holidays = TimeSeries.from_dataframe(\n",
    "    df=load2023,\n",
    "    time_col=\"datetime\",\n",
    "    value_cols=[\"Holidays\"]\n",
    ")\n",
    "\n",
    "print(series)\n",
    "\n",
    "\n",
    "\n",
    "load2023\n"
   ]
  },
  {
   "cell_type": "code",
   "execution_count": 130,
   "id": "01d5a930",
   "metadata": {},
   "outputs": [],
   "source": [
    "# Set aside the last 2 as a validation series\n",
    "train, val = Load[:-144], Load[-144:]"
   ]
  },
  {
   "cell_type": "markdown",
   "id": "46faf887",
   "metadata": {},
   "source": [
    "Fit an exponential smoothing model, and make a (probabilistic) prediction over the validation series’ duration:"
   ]
  },
  {
   "cell_type": "code",
   "execution_count": 134,
   "id": "ec4edb12",
   "metadata": {},
   "outputs": [
    {
     "name": "stderr",
     "output_type": "stream",
     "text": [
      "c:\\Users\\jakfa\\Documents\\Project\\.venv\\Lib\\site-packages\\statsmodels\\tsa\\holtwinters\\model.py:918: ConvergenceWarning:\n",
      "\n",
      "Optimization failed to converge. Check mle_retvals.\n",
      "\n"
     ]
    }
   ],
   "source": [
    "from darts.models import ExponentialSmoothing\n",
    "\n",
    "model = ExponentialSmoothing()\n",
    "model.fit(train)\n",
    "prediction = model.predict(len(val), num_samples=8700)"
   ]
  },
  {
   "cell_type": "markdown",
   "id": "ee88dc00",
   "metadata": {},
   "source": [
    "Plot the median, 5th and 95th percentiles:"
   ]
  },
  {
   "cell_type": "code",
   "execution_count": 139,
   "id": "5fe557d4",
   "metadata": {},
   "outputs": [
    {
     "data": {
      "text/plain": [
       "<matplotlib.legend.Legend at 0x212bd1e7110>"
      ]
     },
     "execution_count": 139,
     "metadata": {},
     "output_type": "execute_result"
    },
    {
     "data": {
      "image/png": "[encoded data removed]",
      "text/plain": [
       "<Figure size 640x480 with 1 Axes>"
      ]
     },
     "metadata": {},
     "output_type": "display_data"
    }
   ],
   "source": [
    "import matplotlib.pyplot as plt\n",
    "\n",
    "# Slice the TimeSeries for the last 1 months (Oct 1, 2023 - Dec 31, 2023)\n",
    "last_3_months = Load.slice(\n",
    "    start_ts=pd.Timestamp('2023-12-07 00:00:00'),\n",
    "    end_ts=pd.Timestamp('2023-12-31 23:00:00')\n",
    ")\n",
    "\n",
    "last_3_months.plot()\n",
    "prediction.plot(label=\"forecast\", low_quantile=0.05, high_quantile=0.95)\n",
    "plt.legend()"
   ]
  }
 ],
 "metadata": {
  "kernelspec": {
   "display_name": ".venv",
   "language": "python",
   "name": "python3"
  },
  "language_info": {
   "codemirror_mode": {
    "name": "ipython",
    "version": 3
   },
   "file_extension": ".py",
   "mimetype": "text/x-python",
   "name": "python",
   "nbconvert_exporter": "python",
   "pygments_lexer": "ipython3",
   "version": "3.12.10"
  }
 },
 "nbformat": 4,
 "nbformat_minor": 5
}
