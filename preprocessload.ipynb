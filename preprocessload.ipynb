{
 "cells": [
  {
   "cell_type": "markdown",
   "metadata": {
    "cell_id": "03146879791949109e6d4e1399006a96",
    "deepnote_cell_type": "markdown"
   },
   "source": [
    "## Preprocessing the data"
   ]
  },
  {
   "cell_type": "markdown",
   "metadata": {},
   "source": [
    "Create a TimeSeries object from a Pandas DataFrame, and split it in train/validation series:"
   ]
  },
  {
   "cell_type": "code",
   "execution_count": 6,
   "metadata": {
    "cell_id": "48019066739f41fe95ff4681a66807d1",
    "deepnote_cell_type": "code",
    "deepnote_to_be_reexecuted": false,
    "execution_millis": 67,
    "execution_start": 1690375795642,
    "source_hash": null
   },
   "outputs": [
    {
     "name": "stdout",
     "output_type": "stream",
     "text": [
      "            date      time  Load [MW]\n",
      "0     2023-01-01  00:00:00     8955.0\n",
      "1     2023-01-01  01:00:00     8943.0\n",
      "2     2023-01-01  02:00:00     8929.0\n",
      "3     2023-01-01  03:00:00     8887.0\n",
      "4     2023-01-01  04:00:00     8859.0\n",
      "...          ...       ...        ...\n",
      "8756  2023-12-31  19:00:00    11947.0\n",
      "8757  2023-12-31  20:00:00    11561.0\n",
      "8758  2023-12-31  21:00:00    11276.0\n",
      "8759  2023-12-31  22:00:00    11035.0\n",
      "8760  2023-12-31  23:00:00    10831.0\n",
      "\n",
      "[8761 rows x 3 columns]\n"
     ]
    }
   ],
   "source": [
    "import pandas as pd\n",
    "from darts import TimeSeries\n",
    "\n",
    "# Read a pandas DataFrame 2023\n",
    "load2023 = pd.read_csv(\"Load_Data/Total Load - Day Ahead _ Actual_2023.csv\", delimiter=\",\")\n",
    "\n",
    "# Change the timestamp following the dataseries for DARTS\n",
    "load2023['Time (CET/CEST)'] = load2023['Time (CET/CEST)'].str.split(' - ').str[0]\n",
    "# Delete the initial day ahead forecast data\n",
    "load2023 = load2023.drop('Day-ahead Total Load Forecast [MW] - BZN|SE3',axis=1)   \n",
    "# Change the name to simple name\n",
    "load2023 = load2023.rename(columns={'Time (CET/CEST)': 'completetime', 'Actual Total Load [MW] - BZN|SE3': 'Load [MW]'})\n",
    "# Convert 'time' to datetime for easier splitting\n",
    "load2023['datetime'] = pd.to_datetime(load2023['completetime'], format='%d.%m.%Y %H:%M')\n",
    "# Create 'date' and 'time' columns\n",
    "load2023['date'] = load2023['datetime'].dt.strftime('%Y-%m-%d')\n",
    "load2023['time'] = load2023['datetime'].dt.strftime('%H:%M:%S')\n",
    "load2023 = load2023.drop(['completetime', 'datetime'], axis=1)\n",
    "# Reorder the column\n",
    "load2023 = load2023[['date', 'time', 'Load [MW]']]\n",
    "\n",
    "print(load2023)\n",
    "\n"
   ]
  }
 ],
 "metadata": {
  "deepnote": {},
  "deepnote_execution_queue": [],
  "deepnote_notebook_id": "8ce3059f507a4a83b8c51c80b76fc3ef",
  "kernelspec": {
   "display_name": ".venv",
   "language": "python",
   "name": "python3"
  },
  "language_info": {
   "codemirror_mode": {
    "name": "ipython",
    "version": 3
   },
   "file_extension": ".py",
   "mimetype": "text/x-python",
   "name": "python",
   "nbconvert_exporter": "python",
   "pygments_lexer": "ipython3",
   "version": "3.12.10"
  },
  "orig_nbformat": 2
 },
 "nbformat": 4,
 "nbformat_minor": 0
}
