{
 "cells": [
  {
   "cell_type": "markdown",
   "metadata": {
    "cell_id": "03146879791949109e6d4e1399006a96",
    "deepnote_cell_type": "markdown"
   },
   "source": [
    "## Preprocessing the data"
   ]
  },
  {
   "cell_type": "markdown",
   "metadata": {},
   "source": [
    "Create a TimeSeries object from a Pandas DataFrame, and split it in train/validation series:"
   ]
  },
  {
   "cell_type": "code",
   "execution_count": 10,
   "metadata": {
    "cell_id": "48019066739f41fe95ff4681a66807d1",
    "deepnote_cell_type": "code",
    "deepnote_to_be_reexecuted": false,
    "execution_millis": 67,
    "execution_start": 1690375795642,
    "source_hash": null
   },
   "outputs": [
    {
     "name": "stdout",
     "output_type": "stream",
     "text": [
      "                datetime  Load [MW]\n",
      "0    2023-01-01 00:00:00       8943\n",
      "1    2023-01-01 01:00:00       8929\n",
      "2    2023-01-01 02:00:00       8887\n",
      "3    2023-01-01 03:00:00       8859\n",
      "4    2023-01-01 04:00:00       8880\n",
      "...                  ...        ...\n",
      "8755 2023-12-31 19:00:00      11561\n",
      "8756 2023-12-31 20:00:00      11276\n",
      "8757 2023-12-31 21:00:00      11035\n",
      "8758 2023-12-31 22:00:00      10831\n",
      "8759 2023-12-31 23:00:00      10722\n",
      "\n",
      "[8760 rows x 2 columns]\n"
     ]
    }
   ],
   "source": [
    "import pandas as pd\n",
    "from darts import TimeSeries\n",
    "\n",
    "# Read a pandas DataFrame 2023\n",
    "load2023 = pd.read_csv(\"Load_Data/Total Load - Day Ahead _ Actual_2023.csv\", delimiter=\",\")\n",
    "\n",
    "# Change the timestamp following the dataseries for DARTS\n",
    "load2023['Time (UTC)'] = load2023['Time (UTC)'].str.split(' - ').str[0]\n",
    "# Delete the initial day ahead forecast data\n",
    "load2023 = load2023.drop('Day-ahead Total Load Forecast [MW] - BZN|SE3',axis=1)   \n",
    "# Change the name to simple name\n",
    "load2023 = load2023.rename(columns={'Time (UTC)': 'completetime', 'Actual Total Load [MW] - BZN|SE3': 'Load [MW]'})\n",
    "# Convert 'time' to datetime for easier splitting\n",
    "load2023['datetime'] = pd.to_datetime(load2023['completetime'], format='%d.%m.%Y %H:%M')\n",
    "#load2023['completetime'] = load2023['datetime'].dt.strftime('%Y-%m-%d %H:%M')\n",
    "# Create 'date' and 'time' columns\n",
    "#load2023['date'] = load2023['datetime'].dt.strftime('%Y-%m-%d')\n",
    "# load2023['time'] = load2023['datetime'].dt.strftime('%H:%M:%S')\n",
    "load2023 = load2023.drop(['completetime'], axis=1)\n",
    "# Reorder the column\n",
    "load2023 = load2023[['datetime', 'Load [MW]']]\n",
    "\n",
    "print(load2023)\n",
    "\n",
    "\n"
   ]
  },
  {
   "cell_type": "markdown",
   "metadata": {},
   "source": [
    "Adding features to this dataset can help us better understand it. Let's start with some simple calendar features like day of week and time of day. "
   ]
  },
  {
   "cell_type": "code",
   "execution_count": 11,
   "metadata": {},
   "outputs": [
    {
     "data": {
      "text/html": [
       "<div>\n",
       "<style scoped>\n",
       "    .dataframe tbody tr th:only-of-type {\n",
       "        vertical-align: middle;\n",
       "    }\n",
       "\n",
       "    .dataframe tbody tr th {\n",
       "        vertical-align: top;\n",
       "    }\n",
       "\n",
       "    .dataframe thead th {\n",
       "        text-align: right;\n",
       "    }\n",
       "</style>\n",
       "<table border=\"1\" class=\"dataframe\">\n",
       "  <thead>\n",
       "    <tr style=\"text-align: right;\">\n",
       "      <th></th>\n",
       "      <th>Load [MW]</th>\n",
       "      <th>Day_of_week</th>\n",
       "      <th>Hour_of_day</th>\n",
       "    </tr>\n",
       "    <tr>\n",
       "      <th>datetime</th>\n",
       "      <th></th>\n",
       "      <th></th>\n",
       "      <th></th>\n",
       "    </tr>\n",
       "  </thead>\n",
       "  <tbody>\n",
       "    <tr>\n",
       "      <th>2023-01-01 00:00:00</th>\n",
       "      <td>8943</td>\n",
       "      <td>6</td>\n",
       "      <td>0</td>\n",
       "    </tr>\n",
       "    <tr>\n",
       "      <th>2023-01-01 01:00:00</th>\n",
       "      <td>8929</td>\n",
       "      <td>6</td>\n",
       "      <td>1</td>\n",
       "    </tr>\n",
       "    <tr>\n",
       "      <th>2023-01-01 02:00:00</th>\n",
       "      <td>8887</td>\n",
       "      <td>6</td>\n",
       "      <td>2</td>\n",
       "    </tr>\n",
       "    <tr>\n",
       "      <th>2023-01-01 03:00:00</th>\n",
       "      <td>8859</td>\n",
       "      <td>6</td>\n",
       "      <td>3</td>\n",
       "    </tr>\n",
       "    <tr>\n",
       "      <th>2023-01-01 04:00:00</th>\n",
       "      <td>8880</td>\n",
       "      <td>6</td>\n",
       "      <td>4</td>\n",
       "    </tr>\n",
       "    <tr>\n",
       "      <th>...</th>\n",
       "      <td>...</td>\n",
       "      <td>...</td>\n",
       "      <td>...</td>\n",
       "    </tr>\n",
       "    <tr>\n",
       "      <th>2023-12-31 19:00:00</th>\n",
       "      <td>11561</td>\n",
       "      <td>6</td>\n",
       "      <td>19</td>\n",
       "    </tr>\n",
       "    <tr>\n",
       "      <th>2023-12-31 20:00:00</th>\n",
       "      <td>11276</td>\n",
       "      <td>6</td>\n",
       "      <td>20</td>\n",
       "    </tr>\n",
       "    <tr>\n",
       "      <th>2023-12-31 21:00:00</th>\n",
       "      <td>11035</td>\n",
       "      <td>6</td>\n",
       "      <td>21</td>\n",
       "    </tr>\n",
       "    <tr>\n",
       "      <th>2023-12-31 22:00:00</th>\n",
       "      <td>10831</td>\n",
       "      <td>6</td>\n",
       "      <td>22</td>\n",
       "    </tr>\n",
       "    <tr>\n",
       "      <th>2023-12-31 23:00:00</th>\n",
       "      <td>10722</td>\n",
       "      <td>6</td>\n",
       "      <td>23</td>\n",
       "    </tr>\n",
       "  </tbody>\n",
       "</table>\n",
       "<p>8760 rows × 3 columns</p>\n",
       "</div>"
      ],
      "text/plain": [
       "                     Load [MW]  Day_of_week  Hour_of_day\n",
       "datetime                                                \n",
       "2023-01-01 00:00:00       8943            6            0\n",
       "2023-01-01 01:00:00       8929            6            1\n",
       "2023-01-01 02:00:00       8887            6            2\n",
       "2023-01-01 03:00:00       8859            6            3\n",
       "2023-01-01 04:00:00       8880            6            4\n",
       "...                        ...          ...          ...\n",
       "2023-12-31 19:00:00      11561            6           19\n",
       "2023-12-31 20:00:00      11276            6           20\n",
       "2023-12-31 21:00:00      11035            6           21\n",
       "2023-12-31 22:00:00      10831            6           22\n",
       "2023-12-31 23:00:00      10722            6           23\n",
       "\n",
       "[8760 rows x 3 columns]"
      ]
     },
     "execution_count": 11,
     "metadata": {},
     "output_type": "execute_result"
    }
   ],
   "source": [
    "load2023 = load2023.reset_index(drop=True)\n",
    "load2023['Day_of_week'] = load2023['datetime'].dt.dayofweek\n",
    "load2023['Hour_of_day'] = load2023['datetime'].dt.hour\n",
    "load2023 = load2023.set_index('datetime')\n",
    "load2023"
   ]
  },
  {
   "cell_type": "code",
   "execution_count": null,
   "metadata": {},
   "outputs": [],
   "source": [
    "# Create a TimeSeries, specifying the time and value columns\n",
    "series = TimeSeries.from_dataframe(load2023, \"datetime\", \"Load [MW]\")\n",
    "\n",
    "# Set aside the last 3 months as a validation series\n",
    "train, val = series[:-2209], series[-2209:]"
   ]
  },
  {
   "cell_type": "markdown",
   "metadata": {},
   "source": [
    "Fit an exponential smoothing model, and make a (probabilistic) prediction over the validation series’ duration:"
   ]
  },
  {
   "cell_type": "code",
   "execution_count": null,
   "metadata": {},
   "outputs": [
    {
     "name": "stderr",
     "output_type": "stream",
     "text": [
      "c:\\Users\\jakfa\\Documents\\Project\\.venv\\Lib\\site-packages\\statsmodels\\tsa\\holtwinters\\model.py:918: ConvergenceWarning: Optimization failed to converge. Check mle_retvals.\n",
      "  warnings.warn(\n"
     ]
    }
   ],
   "source": [
    "from darts.models import ExponentialSmoothing\n",
    "\n",
    "model = ExponentialSmoothing()\n",
    "model.fit(train)\n",
    "prediction = model.predict(len(val), num_samples=1000)"
   ]
  },
  {
   "cell_type": "markdown",
   "metadata": {},
   "source": [
    "Plot the median, 5th and 95th percentiles:"
   ]
  },
  {
   "cell_type": "code",
   "execution_count": null,
   "metadata": {},
   "outputs": [
    {
     "data": {
      "text/plain": [
       "<matplotlib.legend.Legend at 0x1f8d0cb7410>"
      ]
     },
     "execution_count": 18,
     "metadata": {},
     "output_type": "execute_result"
    },
    {
     "data": {
      "image/png": "[encoded data removed]",
      "text/plain": [
       "<Figure size 640x480 with 1 Axes>"
      ]
     },
     "metadata": {},
     "output_type": "display_data"
    }
   ],
   "source": [
    "import matplotlib.pyplot as plt\n",
    "\n",
    "series.plot()\n",
    "prediction.plot(label=\"forecast\", low_quantile=0.05, high_quantile=0.95)\n",
    "plt.legend()"
   ]
  }
 ],
 "metadata": {
  "deepnote": {},
  "deepnote_execution_queue": [],
  "deepnote_notebook_id": "8ce3059f507a4a83b8c51c80b76fc3ef",
  "kernelspec": {
   "display_name": ".venv",
   "language": "python",
   "name": "python3"
  },
  "language_info": {
   "codemirror_mode": {
    "name": "ipython",
    "version": 3
   },
   "file_extension": ".py",
   "mimetype": "text/x-python",
   "name": "python",
   "nbconvert_exporter": "python",
   "pygments_lexer": "ipython3",
   "version": "3.12.10"
  },
  "orig_nbformat": 2
 },
 "nbformat": 4,
 "nbformat_minor": 0
}
