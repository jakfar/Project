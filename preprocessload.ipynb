{
 "cells": [
  {
   "cell_type": "markdown",
   "metadata": {
    "cell_id": "03146879791949109e6d4e1399006a96",
    "deepnote_cell_type": "markdown"
   },
   "source": [
    "## Preprocessing the data"
   ]
  },
  {
   "cell_type": "markdown",
   "metadata": {},
   "source": [
    "Create a TimeSeries object from a Pandas DataFrame, and split it in train/validation series:"
   ]
  },
  {
   "cell_type": "code",
   "execution_count": 23,
   "metadata": {
    "cell_id": "48019066739f41fe95ff4681a66807d1",
    "deepnote_cell_type": "code",
    "deepnote_to_be_reexecuted": false,
    "execution_millis": 67,
    "execution_start": 1690375795642,
    "source_hash": null
   },
   "outputs": [
    {
     "name": "stdout",
     "output_type": "stream",
     "text": [
      "0       01.01.2023 00:00\n",
      "1       01.01.2023 01:00\n",
      "2       01.01.2023 02:00\n",
      "3       01.01.2023 03:00\n",
      "4       01.01.2023 04:00\n",
      "              ...       \n",
      "8756    31.12.2023 19:00\n",
      "8757    31.12.2023 20:00\n",
      "8758    31.12.2023 21:00\n",
      "8759    31.12.2023 22:00\n",
      "8760    31.12.2023 23:00\n",
      "Name: Time (CET/CEST, Length: 8761, dtype: object\n",
      "                          Time (CET/CEST)  \\\n",
      "0     01.01.2023 00:00 - 01.01.2023 01:00   \n",
      "1     01.01.2023 01:00 - 01.01.2023 02:00   \n",
      "2     01.01.2023 02:00 - 01.01.2023 03:00   \n",
      "3     01.01.2023 03:00 - 01.01.2023 04:00   \n",
      "4     01.01.2023 04:00 - 01.01.2023 05:00   \n",
      "...                                   ...   \n",
      "8756  31.12.2023 19:00 - 31.12.2023 20:00   \n",
      "8757  31.12.2023 20:00 - 31.12.2023 21:00   \n",
      "8758  31.12.2023 21:00 - 31.12.2023 22:00   \n",
      "8759  31.12.2023 22:00 - 31.12.2023 23:00   \n",
      "8760  31.12.2023 23:00 - 01.01.2024 00:00   \n",
      "\n",
      "      Day-ahead Total Load Forecast [MW] - BZN|SE3  \\\n",
      "0                                           8987.0   \n",
      "1                                           8897.0   \n",
      "2                                           8836.0   \n",
      "3                                           8779.0   \n",
      "4                                           8806.0   \n",
      "...                                            ...   \n",
      "8756                                       11877.0   \n",
      "8757                                       11563.0   \n",
      "8758                                       11350.0   \n",
      "8759                                       11099.0   \n",
      "8760                                       10887.0   \n",
      "\n",
      "      Actual Total Load [MW] - BZN|SE3    Time (CET/CEST  \n",
      "0                               8955.0  01.01.2023 00:00  \n",
      "1                               8943.0  01.01.2023 01:00  \n",
      "2                               8929.0  01.01.2023 02:00  \n",
      "3                               8887.0  01.01.2023 03:00  \n",
      "4                               8859.0  01.01.2023 04:00  \n",
      "...                                ...               ...  \n",
      "8756                           11947.0  31.12.2023 19:00  \n",
      "8757                           11561.0  31.12.2023 20:00  \n",
      "8758                           11276.0  31.12.2023 21:00  \n",
      "8759                           11035.0  31.12.2023 22:00  \n",
      "8760                           10831.0  31.12.2023 23:00  \n",
      "\n",
      "[8761 rows x 4 columns]\n"
     ]
    }
   ],
   "source": [
    "import pandas as pd\n",
    "from darts import TimeSeries\n",
    "\n",
    "# Read a pandas DataFrame 2023\n",
    "load2023 = pd.read_csv(\"Load_Data/Total Load - Day Ahead _ Actual_2023.csv\", delimiter=\",\")\n",
    "\n",
    "# Change the timestamp following the dataseries for DARTS\n",
    "load2023['Time (CET/CEST'] = load2023['Time (CET/CEST)'].str.split(' - ').str[0]\n",
    "\n",
    "print(load2023['Time (CET/CEST'])\n",
    "print(load2023)\n",
    "\n"
   ]
  }
 ],
 "metadata": {
  "deepnote": {},
  "deepnote_execution_queue": [],
  "deepnote_notebook_id": "8ce3059f507a4a83b8c51c80b76fc3ef",
  "kernelspec": {
   "display_name": ".venv",
   "language": "python",
   "name": "python3"
  },
  "language_info": {
   "codemirror_mode": {
    "name": "ipython",
    "version": 3
   },
   "file_extension": ".py",
   "mimetype": "text/x-python",
   "name": "python",
   "nbconvert_exporter": "python",
   "pygments_lexer": "ipython3",
   "version": "3.12.10"
  },
  "orig_nbformat": 2
 },
 "nbformat": 4,
 "nbformat_minor": 0
}
