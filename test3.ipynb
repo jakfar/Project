{
 "cells": [
  {
   "cell_type": "code",
   "execution_count": 6,
   "id": "e7400fb1",
   "metadata": {},
   "outputs": [
    {
     "name": "stdout",
     "output_type": "stream",
     "text": [
      "             Datetime  Temperature_C      Time\n",
      "0 2023-01-01 00:00:00            3.6  00:00:00\n",
      "1 2023-01-01 01:00:00            3.0  01:00:00\n",
      "2 2023-01-01 02:00:00            2.6  02:00:00\n",
      "3 2023-01-01 03:00:00            2.4  03:00:00\n",
      "4 2023-01-01 04:00:00            2.0  04:00:00\n"
     ]
    }
   ],
   "source": [
    "import pandas as pd\n",
    "\n",
    "# Load the CSV, skipping metadata lines before the actual data\n",
    "df = pd.read_csv('Temperature Data/temperature2023and2024.csv', sep=';', skiprows=9)\n",
    "\n",
    "# Combine 'Datum' and 'Tid (UTC)' into a datetime column\n",
    "df['Datetime'] = pd.to_datetime(df['Datum'] + ' ' + df['Tid (UTC)'])\n",
    "\n",
    "# Keep and rename relevant columns\n",
    "df = df[['Datetime', 'Lufttemperatur']].copy()\n",
    "df.columns = ['Datetime', 'Temperature_C']\n",
    "\n",
    "# Convert temperature to numeric\n",
    "df['Temperature_C'] = pd.to_numeric(df['Temperature_C'], errors='coerce')\n",
    "\n",
    "# Extract time from datetime\n",
    "df['Time'] = df['Datetime'].dt.time\n",
    "\n",
    "# Optional: display the result\n",
    "print(df.head())\n"
   ]
  }
 ],
 "metadata": {
  "kernelspec": {
   "display_name": ".venv",
   "language": "python",
   "name": "python3"
  },
  "language_info": {
   "codemirror_mode": {
    "name": "ipython",
    "version": 3
   },
   "file_extension": ".py",
   "mimetype": "text/x-python",
   "name": "python",
   "nbconvert_exporter": "python",
   "pygments_lexer": "ipython3",
   "version": "3.12.10"
  }
 },
 "nbformat": 4,
 "nbformat_minor": 5
}
